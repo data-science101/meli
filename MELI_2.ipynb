{
  "nbformat": 4,
  "nbformat_minor": 0,
  "metadata": {
    "colab": {
      "provenance": []
    },
    "kernelspec": {
      "name": "python3",
      "display_name": "Python 3"
    },
    "language_info": {
      "name": "python"
    }
  },
  "cells": [
    {
      "cell_type": "markdown",
      "source": [
        "<img src=\"https://s2.glbimg.com/Bu6upvmSg6SRv0za635uXphThKo=/620x430/e.glbimg.com/og/ed/f/original/2020/03/28/mercado-livre.jpg\" width=30%/>\n",
        "\n",
        "# Data Science Challenge - Data & Analytics Team\n",
        "## 2. Similitud entre productos\n",
        "\n",
        "### Descripción\n",
        "\n",
        "Un desafío constante en MELI es el de poder agrupar productos similares utilizando algunos atributos de estos como pueden ser el título, la descripción o su imagen.\n",
        "\n",
        "Para este desafío tenemos un dataset “items_titles.csv” que tiene títulos de 30 mil productos de 3 categorías diferentes de Mercado Libre Brasil.\n",
        "\n",
        "El objetivo del desafío es poder generar una Jupyter notebook que determine cuán similares son dos títulos del dataset “item_titles_test.csv” generando como output un listado de la forma...\n",
        "\n",
        "Donde ordenando por score de similitud podamos encontrar los pares de productos más similares en nuestro dataset de test."
      ],
      "metadata": {
        "id": "jtn_ZiFTCQ-I"
      }
    },
    {
      "cell_type": "code",
      "source": [
        "# Instalação do Sentence Transformers (https://www.sbert.net/index.html)\n",
        "# pip install -U sentence-transformers"
      ],
      "metadata": {
        "id": "h5O0ZQ5Ld1wj"
      },
      "execution_count": null,
      "outputs": []
    },
    {
      "cell_type": "code",
      "source": [
        "from google.colab import drive\n",
        "drive.mount('/content/drive')"
      ],
      "metadata": {
        "colab": {
          "base_uri": "https://localhost:8080/"
        },
        "id": "H2dvtqFn3Ss9",
        "outputId": "8b4c69e6-4834-4db2-bda8-b196044cd81a"
      },
      "execution_count": 2,
      "outputs": [
        {
          "output_type": "stream",
          "name": "stdout",
          "text": [
            "Mounted at /content/drive\n"
          ]
        }
      ]
    },
    {
      "cell_type": "code",
      "source": [
        "import pandas as pd\n",
        "import numpy as np"
      ],
      "metadata": {
        "id": "DSWQ1njJ3TGh"
      },
      "execution_count": 3,
      "outputs": []
    },
    {
      "cell_type": "code",
      "source": [
        "# Armazenamento de csvs em variáveis\n",
        "train = pd.read_csv('/content/drive/MyDrive/Colab Notebooks/MELI/items_titles.csv')\n",
        "test = pd.read_csv('/content/drive/MyDrive/Colab Notebooks/MELI/items_titles_test.csv')"
      ],
      "metadata": {
        "id": "V8p4FEUI36aY"
      },
      "execution_count": 4,
      "outputs": []
    },
    {
      "cell_type": "code",
      "source": [
        "print(train.shape)\n",
        "print(test.shape)"
      ],
      "metadata": {
        "colab": {
          "base_uri": "https://localhost:8080/"
        },
        "id": "LSJw0yKYTVrQ",
        "outputId": "2fa1ab02-63c0-467b-dde0-eef95d0bc817"
      },
      "execution_count": 5,
      "outputs": [
        {
          "output_type": "stream",
          "name": "stdout",
          "text": [
            "(30000, 1)\n",
            "(10000, 1)\n"
          ]
        }
      ]
    },
    {
      "cell_type": "code",
      "source": [
        "train.head()"
      ],
      "metadata": {
        "colab": {
          "base_uri": "https://localhost:8080/",
          "height": 206
        },
        "id": "2FUGsivI4BG5",
        "outputId": "d816a7cf-b47c-4a39-8baf-f03fe4322b57"
      },
      "execution_count": 6,
      "outputs": [
        {
          "output_type": "execute_result",
          "data": {
            "text/plain": [
              "                                      ITE_ITEM_TITLE\n",
              "0  Tênis Ascension Posh Masculino - Preto E Verme...\n",
              "1  Tenis Para Caminhada Super Levinho Spider Corr...\n",
              "2  Tênis Feminino Le Parc Hocks Black/ice Origina...\n",
              "3  Tênis Olympikus Esportivo Academia Nova Tendên...\n",
              "4  Inteligente Led Bicicleta Tauda Luz Usb Bicicl..."
            ],
            "text/html": [
              "\n",
              "  <div id=\"df-f17890ab-ea82-4103-8e0f-b46d7ae527f9\">\n",
              "    <div class=\"colab-df-container\">\n",
              "      <div>\n",
              "<style scoped>\n",
              "    .dataframe tbody tr th:only-of-type {\n",
              "        vertical-align: middle;\n",
              "    }\n",
              "\n",
              "    .dataframe tbody tr th {\n",
              "        vertical-align: top;\n",
              "    }\n",
              "\n",
              "    .dataframe thead th {\n",
              "        text-align: right;\n",
              "    }\n",
              "</style>\n",
              "<table border=\"1\" class=\"dataframe\">\n",
              "  <thead>\n",
              "    <tr style=\"text-align: right;\">\n",
              "      <th></th>\n",
              "      <th>ITE_ITEM_TITLE</th>\n",
              "    </tr>\n",
              "  </thead>\n",
              "  <tbody>\n",
              "    <tr>\n",
              "      <th>0</th>\n",
              "      <td>Tênis Ascension Posh Masculino - Preto E Verme...</td>\n",
              "    </tr>\n",
              "    <tr>\n",
              "      <th>1</th>\n",
              "      <td>Tenis Para Caminhada Super Levinho Spider Corr...</td>\n",
              "    </tr>\n",
              "    <tr>\n",
              "      <th>2</th>\n",
              "      <td>Tênis Feminino Le Parc Hocks Black/ice Origina...</td>\n",
              "    </tr>\n",
              "    <tr>\n",
              "      <th>3</th>\n",
              "      <td>Tênis Olympikus Esportivo Academia Nova Tendên...</td>\n",
              "    </tr>\n",
              "    <tr>\n",
              "      <th>4</th>\n",
              "      <td>Inteligente Led Bicicleta Tauda Luz Usb Bicicl...</td>\n",
              "    </tr>\n",
              "  </tbody>\n",
              "</table>\n",
              "</div>\n",
              "      <button class=\"colab-df-convert\" onclick=\"convertToInteractive('df-f17890ab-ea82-4103-8e0f-b46d7ae527f9')\"\n",
              "              title=\"Convert this dataframe to an interactive table.\"\n",
              "              style=\"display:none;\">\n",
              "        \n",
              "  <svg xmlns=\"http://www.w3.org/2000/svg\" height=\"24px\"viewBox=\"0 0 24 24\"\n",
              "       width=\"24px\">\n",
              "    <path d=\"M0 0h24v24H0V0z\" fill=\"none\"/>\n",
              "    <path d=\"M18.56 5.44l.94 2.06.94-2.06 2.06-.94-2.06-.94-.94-2.06-.94 2.06-2.06.94zm-11 1L8.5 8.5l.94-2.06 2.06-.94-2.06-.94L8.5 2.5l-.94 2.06-2.06.94zm10 10l.94 2.06.94-2.06 2.06-.94-2.06-.94-.94-2.06-.94 2.06-2.06.94z\"/><path d=\"M17.41 7.96l-1.37-1.37c-.4-.4-.92-.59-1.43-.59-.52 0-1.04.2-1.43.59L10.3 9.45l-7.72 7.72c-.78.78-.78 2.05 0 2.83L4 21.41c.39.39.9.59 1.41.59.51 0 1.02-.2 1.41-.59l7.78-7.78 2.81-2.81c.8-.78.8-2.07 0-2.86zM5.41 20L4 18.59l7.72-7.72 1.47 1.35L5.41 20z\"/>\n",
              "  </svg>\n",
              "      </button>\n",
              "      \n",
              "  <style>\n",
              "    .colab-df-container {\n",
              "      display:flex;\n",
              "      flex-wrap:wrap;\n",
              "      gap: 12px;\n",
              "    }\n",
              "\n",
              "    .colab-df-convert {\n",
              "      background-color: #E8F0FE;\n",
              "      border: none;\n",
              "      border-radius: 50%;\n",
              "      cursor: pointer;\n",
              "      display: none;\n",
              "      fill: #1967D2;\n",
              "      height: 32px;\n",
              "      padding: 0 0 0 0;\n",
              "      width: 32px;\n",
              "    }\n",
              "\n",
              "    .colab-df-convert:hover {\n",
              "      background-color: #E2EBFA;\n",
              "      box-shadow: 0px 1px 2px rgba(60, 64, 67, 0.3), 0px 1px 3px 1px rgba(60, 64, 67, 0.15);\n",
              "      fill: #174EA6;\n",
              "    }\n",
              "\n",
              "    [theme=dark] .colab-df-convert {\n",
              "      background-color: #3B4455;\n",
              "      fill: #D2E3FC;\n",
              "    }\n",
              "\n",
              "    [theme=dark] .colab-df-convert:hover {\n",
              "      background-color: #434B5C;\n",
              "      box-shadow: 0px 1px 3px 1px rgba(0, 0, 0, 0.15);\n",
              "      filter: drop-shadow(0px 1px 2px rgba(0, 0, 0, 0.3));\n",
              "      fill: #FFFFFF;\n",
              "    }\n",
              "  </style>\n",
              "\n",
              "      <script>\n",
              "        const buttonEl =\n",
              "          document.querySelector('#df-f17890ab-ea82-4103-8e0f-b46d7ae527f9 button.colab-df-convert');\n",
              "        buttonEl.style.display =\n",
              "          google.colab.kernel.accessAllowed ? 'block' : 'none';\n",
              "\n",
              "        async function convertToInteractive(key) {\n",
              "          const element = document.querySelector('#df-f17890ab-ea82-4103-8e0f-b46d7ae527f9');\n",
              "          const dataTable =\n",
              "            await google.colab.kernel.invokeFunction('convertToInteractive',\n",
              "                                                     [key], {});\n",
              "          if (!dataTable) return;\n",
              "\n",
              "          const docLinkHtml = 'Like what you see? Visit the ' +\n",
              "            '<a target=\"_blank\" href=https://colab.research.google.com/notebooks/data_table.ipynb>data table notebook</a>'\n",
              "            + ' to learn more about interactive tables.';\n",
              "          element.innerHTML = '';\n",
              "          dataTable['output_type'] = 'display_data';\n",
              "          await google.colab.output.renderOutput(dataTable, element);\n",
              "          const docLink = document.createElement('div');\n",
              "          docLink.innerHTML = docLinkHtml;\n",
              "          element.appendChild(docLink);\n",
              "        }\n",
              "      </script>\n",
              "    </div>\n",
              "  </div>\n",
              "  "
            ]
          },
          "metadata": {},
          "execution_count": 6
        }
      ]
    },
    {
      "cell_type": "code",
      "source": [
        "test.head()"
      ],
      "metadata": {
        "colab": {
          "base_uri": "https://localhost:8080/",
          "height": 206
        },
        "id": "fnBWchyD4Guo",
        "outputId": "ed42ccfc-e39e-4aab-b7ef-4417570849eb"
      },
      "execution_count": 7,
      "outputs": [
        {
          "output_type": "execute_result",
          "data": {
            "text/plain": [
              "                                      ITE_ITEM_TITLE\n",
              "0   Tênis Olympikus Esporte Valente - Masculino Kids\n",
              "1  Bicicleta Barra Forte Samy C/ 6 Marchas Cubo C...\n",
              "2       Tênis Usthemp Slip-on Temático - Labrador 2\n",
              "3        Tênis Casual Feminino Moleca Tecido Tie Dye\n",
              "4        Tênis Star Baby Sapatinho Conforto + Brinde"
            ],
            "text/html": [
              "\n",
              "  <div id=\"df-252a1e15-2932-49a6-8cfc-4a6536e8ccd2\">\n",
              "    <div class=\"colab-df-container\">\n",
              "      <div>\n",
              "<style scoped>\n",
              "    .dataframe tbody tr th:only-of-type {\n",
              "        vertical-align: middle;\n",
              "    }\n",
              "\n",
              "    .dataframe tbody tr th {\n",
              "        vertical-align: top;\n",
              "    }\n",
              "\n",
              "    .dataframe thead th {\n",
              "        text-align: right;\n",
              "    }\n",
              "</style>\n",
              "<table border=\"1\" class=\"dataframe\">\n",
              "  <thead>\n",
              "    <tr style=\"text-align: right;\">\n",
              "      <th></th>\n",
              "      <th>ITE_ITEM_TITLE</th>\n",
              "    </tr>\n",
              "  </thead>\n",
              "  <tbody>\n",
              "    <tr>\n",
              "      <th>0</th>\n",
              "      <td>Tênis Olympikus Esporte Valente - Masculino Kids</td>\n",
              "    </tr>\n",
              "    <tr>\n",
              "      <th>1</th>\n",
              "      <td>Bicicleta Barra Forte Samy C/ 6 Marchas Cubo C...</td>\n",
              "    </tr>\n",
              "    <tr>\n",
              "      <th>2</th>\n",
              "      <td>Tênis Usthemp Slip-on Temático - Labrador 2</td>\n",
              "    </tr>\n",
              "    <tr>\n",
              "      <th>3</th>\n",
              "      <td>Tênis Casual Feminino Moleca Tecido Tie Dye</td>\n",
              "    </tr>\n",
              "    <tr>\n",
              "      <th>4</th>\n",
              "      <td>Tênis Star Baby Sapatinho Conforto + Brinde</td>\n",
              "    </tr>\n",
              "  </tbody>\n",
              "</table>\n",
              "</div>\n",
              "      <button class=\"colab-df-convert\" onclick=\"convertToInteractive('df-252a1e15-2932-49a6-8cfc-4a6536e8ccd2')\"\n",
              "              title=\"Convert this dataframe to an interactive table.\"\n",
              "              style=\"display:none;\">\n",
              "        \n",
              "  <svg xmlns=\"http://www.w3.org/2000/svg\" height=\"24px\"viewBox=\"0 0 24 24\"\n",
              "       width=\"24px\">\n",
              "    <path d=\"M0 0h24v24H0V0z\" fill=\"none\"/>\n",
              "    <path d=\"M18.56 5.44l.94 2.06.94-2.06 2.06-.94-2.06-.94-.94-2.06-.94 2.06-2.06.94zm-11 1L8.5 8.5l.94-2.06 2.06-.94-2.06-.94L8.5 2.5l-.94 2.06-2.06.94zm10 10l.94 2.06.94-2.06 2.06-.94-2.06-.94-.94-2.06-.94 2.06-2.06.94z\"/><path d=\"M17.41 7.96l-1.37-1.37c-.4-.4-.92-.59-1.43-.59-.52 0-1.04.2-1.43.59L10.3 9.45l-7.72 7.72c-.78.78-.78 2.05 0 2.83L4 21.41c.39.39.9.59 1.41.59.51 0 1.02-.2 1.41-.59l7.78-7.78 2.81-2.81c.8-.78.8-2.07 0-2.86zM5.41 20L4 18.59l7.72-7.72 1.47 1.35L5.41 20z\"/>\n",
              "  </svg>\n",
              "      </button>\n",
              "      \n",
              "  <style>\n",
              "    .colab-df-container {\n",
              "      display:flex;\n",
              "      flex-wrap:wrap;\n",
              "      gap: 12px;\n",
              "    }\n",
              "\n",
              "    .colab-df-convert {\n",
              "      background-color: #E8F0FE;\n",
              "      border: none;\n",
              "      border-radius: 50%;\n",
              "      cursor: pointer;\n",
              "      display: none;\n",
              "      fill: #1967D2;\n",
              "      height: 32px;\n",
              "      padding: 0 0 0 0;\n",
              "      width: 32px;\n",
              "    }\n",
              "\n",
              "    .colab-df-convert:hover {\n",
              "      background-color: #E2EBFA;\n",
              "      box-shadow: 0px 1px 2px rgba(60, 64, 67, 0.3), 0px 1px 3px 1px rgba(60, 64, 67, 0.15);\n",
              "      fill: #174EA6;\n",
              "    }\n",
              "\n",
              "    [theme=dark] .colab-df-convert {\n",
              "      background-color: #3B4455;\n",
              "      fill: #D2E3FC;\n",
              "    }\n",
              "\n",
              "    [theme=dark] .colab-df-convert:hover {\n",
              "      background-color: #434B5C;\n",
              "      box-shadow: 0px 1px 3px 1px rgba(0, 0, 0, 0.15);\n",
              "      filter: drop-shadow(0px 1px 2px rgba(0, 0, 0, 0.3));\n",
              "      fill: #FFFFFF;\n",
              "    }\n",
              "  </style>\n",
              "\n",
              "      <script>\n",
              "        const buttonEl =\n",
              "          document.querySelector('#df-252a1e15-2932-49a6-8cfc-4a6536e8ccd2 button.colab-df-convert');\n",
              "        buttonEl.style.display =\n",
              "          google.colab.kernel.accessAllowed ? 'block' : 'none';\n",
              "\n",
              "        async function convertToInteractive(key) {\n",
              "          const element = document.querySelector('#df-252a1e15-2932-49a6-8cfc-4a6536e8ccd2');\n",
              "          const dataTable =\n",
              "            await google.colab.kernel.invokeFunction('convertToInteractive',\n",
              "                                                     [key], {});\n",
              "          if (!dataTable) return;\n",
              "\n",
              "          const docLinkHtml = 'Like what you see? Visit the ' +\n",
              "            '<a target=\"_blank\" href=https://colab.research.google.com/notebooks/data_table.ipynb>data table notebook</a>'\n",
              "            + ' to learn more about interactive tables.';\n",
              "          element.innerHTML = '';\n",
              "          dataTable['output_type'] = 'display_data';\n",
              "          await google.colab.output.renderOutput(dataTable, element);\n",
              "          const docLink = document.createElement('div');\n",
              "          docLink.innerHTML = docLinkHtml;\n",
              "          element.appendChild(docLink);\n",
              "        }\n",
              "      </script>\n",
              "    </div>\n",
              "  </div>\n",
              "  "
            ]
          },
          "metadata": {},
          "execution_count": 7
        }
      ]
    },
    {
      "cell_type": "code",
      "source": [
        "# Convertendo colunas dos dois datasets para lowercase\n",
        "train['ITE_ITEM_TITLE'] = train['ITE_ITEM_TITLE'].str.lower()\n",
        "test['ITE_ITEM_TITLE'] = test['ITE_ITEM_TITLE'].str.lower()"
      ],
      "metadata": {
        "id": "7T0EKEq7XWsL"
      },
      "execution_count": 8,
      "outputs": []
    },
    {
      "cell_type": "markdown",
      "source": [
        "Decidi não remover pontuação e caracteres especiais pois os títulos são criados pelos vendedores."
      ],
      "metadata": {
        "id": "slMUvDaVBtxy"
      }
    },
    {
      "cell_type": "code",
      "source": [
        "# Importando SentenceTransformer\n",
        "from sentence_transformers import SentenceTransformer\n",
        "\n",
        "# Instanciando o modelo pré-treinado all-MiniLM-L6-v2 do Hugging Face (https://huggingface.co/sentence-transformers/all-MiniLM-L6-v2)\n",
        "model = SentenceTransformer('sentence-transformers/all-MiniLM-L6-v2')"
      ],
      "metadata": {
        "id": "T_4m_cQJdvZN"
      },
      "execution_count": 38,
      "outputs": []
    },
    {
      "cell_type": "code",
      "source": [
        "# Importando Cosine Similarity do Scikit-learn\n",
        "from sklearn.metrics.pairwise import cosine_similarity"
      ],
      "metadata": {
        "id": "4riiFLcjecps"
      },
      "execution_count": 27,
      "outputs": []
    },
    {
      "cell_type": "code",
      "source": [
        "# Encoding de valores do dataset train usando o model (all-MiniLM-L6-v2)\n",
        "train_vecs = model.encode(train['ITE_ITEM_TITLE'][:3000])"
      ],
      "metadata": {
        "id": "W2ebF_85eut9"
      },
      "execution_count": 28,
      "outputs": []
    },
    {
      "cell_type": "code",
      "source": [
        "train_vecs.shape"
      ],
      "metadata": {
        "colab": {
          "base_uri": "https://localhost:8080/"
        },
        "id": "d9NsQKJYe7wy",
        "outputId": "efd578eb-1460-4321-d03c-1efd83c1a816"
      },
      "execution_count": 29,
      "outputs": [
        {
          "output_type": "execute_result",
          "data": {
            "text/plain": [
              "(3000, 384)"
            ]
          },
          "metadata": {},
          "execution_count": 29
        }
      ]
    },
    {
      "cell_type": "markdown",
      "source": [
        "Temos um array com 3.000 linhas e 384 de tamanho no hidden state size do modelo Bert."
      ],
      "metadata": {
        "id": "xcMd6wMdD7ye"
      }
    },
    {
      "cell_type": "code",
      "source": [
        "train_vecs"
      ],
      "metadata": {
        "colab": {
          "base_uri": "https://localhost:8080/"
        },
        "id": "OuqAd-23fABt",
        "outputId": "1938be9c-9f13-485f-d890-3cbbfa1dc473"
      },
      "execution_count": 30,
      "outputs": [
        {
          "output_type": "execute_result",
          "data": {
            "text/plain": [
              "array([[-1.04104668e-01,  8.30359012e-02, -1.26138926e-04, ...,\n",
              "         9.03577879e-02, -2.26802342e-02, -5.28213456e-02],\n",
              "       [-4.46924120e-02,  4.16178182e-02, -1.40467435e-01, ...,\n",
              "         5.14654107e-02, -3.91320102e-02,  8.16617440e-03],\n",
              "       [-8.95926803e-02,  6.88367337e-02, -3.57197761e-03, ...,\n",
              "         7.81936944e-02, -3.78785692e-02,  4.12488764e-04],\n",
              "       ...,\n",
              "       [-8.23145453e-03,  5.90097858e-03,  3.20991650e-02, ...,\n",
              "         5.90163618e-02,  9.36579797e-03, -5.74092939e-02],\n",
              "       [-8.66851658e-02, -2.38280445e-02,  7.22426176e-02, ...,\n",
              "         2.30916915e-03,  2.22372683e-03,  2.08990020e-03],\n",
              "       [-9.95980389e-03,  1.16068095e-01, -9.98413712e-02, ...,\n",
              "         9.19225514e-02,  8.36134106e-02, -2.55244002e-02]], dtype=float32)"
            ]
          },
          "metadata": {},
          "execution_count": 30
        }
      ]
    },
    {
      "cell_type": "code",
      "source": [
        "# Encoding de valores do dataset test usando o model (all-MiniLM-L6-v2)\n",
        "test_vecs = model.encode(test['ITE_ITEM_TITLE'][:1000])"
      ],
      "metadata": {
        "id": "EEamDiDqiD7Z"
      },
      "execution_count": 31,
      "outputs": []
    },
    {
      "cell_type": "code",
      "source": [
        "test_vecs.shape"
      ],
      "metadata": {
        "colab": {
          "base_uri": "https://localhost:8080/"
        },
        "id": "4z6BTnHTi1Y9",
        "outputId": "244f639a-654c-4a2a-bf73-45dc61f3d428"
      },
      "execution_count": 32,
      "outputs": [
        {
          "output_type": "execute_result",
          "data": {
            "text/plain": [
              "(1000, 384)"
            ]
          },
          "metadata": {},
          "execution_count": 32
        }
      ]
    },
    {
      "cell_type": "markdown",
      "source": [
        "Temos um array com 1000 linhas e 384 de tamanho no hidden state size do modelo Bert."
      ],
      "metadata": {
        "id": "kvngu_yRD9sD"
      }
    },
    {
      "cell_type": "code",
      "source": [
        "test_vecs"
      ],
      "metadata": {
        "colab": {
          "base_uri": "https://localhost:8080/"
        },
        "id": "hAM1Hm9qiNIh",
        "outputId": "f318162c-a69f-4abe-c2d2-ceb30ee85e73"
      },
      "execution_count": 33,
      "outputs": [
        {
          "output_type": "execute_result",
          "data": {
            "text/plain": [
              "array([[-0.01816418,  0.12168916, -0.00326645, ...,  0.08843251,\n",
              "         0.08487038, -0.03037256],\n",
              "       [-0.04601841,  0.07405472, -0.1056786 , ..., -0.04466264,\n",
              "        -0.00369643, -0.01232435],\n",
              "       [-0.08496193, -0.06072852,  0.05279116, ..., -0.00343313,\n",
              "        -0.00308601, -0.06607358],\n",
              "       ...,\n",
              "       [ 0.00535024, -0.02248265, -0.03684547, ..., -0.00135909,\n",
              "         0.017242  ,  0.00710275],\n",
              "       [-0.14282513,  0.07787596, -0.04585041, ..., -0.05926555,\n",
              "        -0.07173265,  0.03149602],\n",
              "       [-0.0677074 ,  0.03779507, -0.00163527, ...,  0.01686839,\n",
              "         0.02153157, -0.01346844]], dtype=float32)"
            ]
          },
          "metadata": {},
          "execution_count": 33
        }
      ]
    },
    {
      "cell_type": "code",
      "source": [
        "# Importando tqdm para acompanhar progresso do loop\n",
        "from tqdm import tqdm\n",
        "\n",
        "# Criação de listas vazias para armazenar variáveis no loop\n",
        "word_train = []\n",
        "word_test = []\n",
        "word_similarity = []\n",
        "original_train = []\n",
        "original_test = []\n",
        "\n",
        "''' \n",
        "Loop rodando nos dois datasets e aplicando cosine_similarity (Testando 3.000 \n",
        "itens no dataset train com cada um de 1.000 do dataset de test).\n",
        "O Colab não aguentou o processamento dos dois datasets inteiros pois geraria um\n",
        "dataframe com mais de 300 milhões de linhas.\n",
        "'''\n",
        "\n",
        "for i in tqdm(range(0,3000)):\n",
        "  for j in range(0, 1000):\n",
        "    cosine_sim = cosine_similarity(\n",
        "      train_vecs[i].reshape(1, -1),\n",
        "      test_vecs[j].reshape(1, -1)\n",
        "    )\n",
        "  \n",
        "    # Scaling de similaridade para ficar entre 0 e 1\n",
        "    scaled_sim = 0.5 * (cosine_sim + 1)\n",
        "\n",
        "    # Salvando itens nas listas\n",
        "    word_train.append(train_vecs[i])\n",
        "    word_test.append(test_vecs[j])\n",
        "    word_similarity.append(scaled_sim)\n",
        "    original_train.append(train['ITE_ITEM_TITLE'][i])\n",
        "    original_test.append(test['ITE_ITEM_TITLE'][j])"
      ],
      "metadata": {
        "id": "sQWB52gJsdAR",
        "colab": {
          "base_uri": "https://localhost:8080/"
        },
        "outputId": "eba416e7-afcc-49a2-dfae-a955f59ee24b"
      },
      "execution_count": 34,
      "outputs": [
        {
          "output_type": "stream",
          "name": "stderr",
          "text": [
            "100%|██████████| 3000/3000 [17:20<00:00,  2.88it/s]\n"
          ]
        }
      ]
    },
    {
      "cell_type": "code",
      "source": [
        "# Criação do dataframe\n",
        "df = pd.DataFrame({\n",
        "    'ITE_ITEM_TITLE':original_train,\n",
        "    'ITE_ITEM_TITLE2':original_test,\n",
        "    'Score Similitud (0,1)':word_similarity\n",
        "})"
      ],
      "metadata": {
        "id": "DQbCqRNMjL14"
      },
      "execution_count": 35,
      "outputs": []
    },
    {
      "cell_type": "code",
      "source": [
        "# Visualização do dataframe ordenado de maneira decrescente pela similaridade\n",
        "df = df.sort_values(by='Score Similitud (0,1)', ascending=False)\n",
        "display(df)"
      ],
      "metadata": {
        "colab": {
          "base_uri": "https://localhost:8080/",
          "height": 424
        },
        "id": "T93na8btjaZZ",
        "outputId": "5476312f-3128-4098-8b4d-1f5e9fe298e2"
      },
      "execution_count": 42,
      "outputs": [
        {
          "output_type": "display_data",
          "data": {
            "text/plain": [
              "                                            ITE_ITEM_TITLE  \\\n",
              "1541718       tenis fila 969532 trend 2.0 /vermelho 969532   \n",
              "2793088  tênis infantil menina barbie calça fácil s/ ca...   \n",
              "2699694              tênis esportivo rainha play original    \n",
              "2627912  tenis feminino guide / 590 - olympikus (04) - ...   \n",
              "787819   tenis masculino casual oldsen academia esporte...   \n",
              "...                                                    ...   \n",
              "1157696   smart tv philco ptv32g70sbl led hd 32  110v/220v   \n",
              "1537093                          bike mtb rava pressure 29   \n",
              "591654                        cannondale fsi carbon 4 2020   \n",
              "1779013         smart tv hq hqstv43ny led 4k 43  110v/220v   \n",
              "591080                        cannondale fsi carbon 4 2020   \n",
              "\n",
              "                                           ITE_ITEM_TITLE2  \\\n",
              "1541718       tenis fila 969532 trend 2.0 /vermelho 969532   \n",
              "2793088  tênis infantil menina barbie calça fácil s/ ca...   \n",
              "2699694              tênis esportivo rainha play original    \n",
              "2627912  tenis feminino guide / 590 - olympikus (04) - ...   \n",
              "787819   tenis masculino casual oldsen academia esporte...   \n",
              "...                                                    ...   \n",
              "1157696          tênis fuzex workout training crossfit wod   \n",
              "1537093  sapatos esportivos femininos com plataforma le...   \n",
              "591654    sapatênis masculino slipe on adulto pomoção luxo   \n",
              "1779013               tenis ous emergente copper essencial   \n",
              "591080   sapatenis infantil masculino tenis menino em c...   \n",
              "\n",
              "        Score Similitud (0,1)  \n",
              "1541718         [[1.0000001]]  \n",
              "2793088               [[1.0]]  \n",
              "2699694               [[1.0]]  \n",
              "2627912               [[1.0]]  \n",
              "787819                [[1.0]]  \n",
              "...                       ...  \n",
              "1157696        [[0.40851957]]  \n",
              "1537093        [[0.40736347]]  \n",
              "591654         [[0.40712065]]  \n",
              "1779013         [[0.4070005]]  \n",
              "591080          [[0.4055806]]  \n",
              "\n",
              "[3000000 rows x 3 columns]"
            ],
            "text/html": [
              "\n",
              "  <div id=\"df-bce59250-c525-46c7-94c8-f9b5119710c4\">\n",
              "    <div class=\"colab-df-container\">\n",
              "      <div>\n",
              "<style scoped>\n",
              "    .dataframe tbody tr th:only-of-type {\n",
              "        vertical-align: middle;\n",
              "    }\n",
              "\n",
              "    .dataframe tbody tr th {\n",
              "        vertical-align: top;\n",
              "    }\n",
              "\n",
              "    .dataframe thead th {\n",
              "        text-align: right;\n",
              "    }\n",
              "</style>\n",
              "<table border=\"1\" class=\"dataframe\">\n",
              "  <thead>\n",
              "    <tr style=\"text-align: right;\">\n",
              "      <th></th>\n",
              "      <th>ITE_ITEM_TITLE</th>\n",
              "      <th>ITE_ITEM_TITLE2</th>\n",
              "      <th>Score Similitud (0,1)</th>\n",
              "    </tr>\n",
              "  </thead>\n",
              "  <tbody>\n",
              "    <tr>\n",
              "      <th>1541718</th>\n",
              "      <td>tenis fila 969532 trend 2.0 /vermelho 969532</td>\n",
              "      <td>tenis fila 969532 trend 2.0 /vermelho 969532</td>\n",
              "      <td>[[1.0000001]]</td>\n",
              "    </tr>\n",
              "    <tr>\n",
              "      <th>2793088</th>\n",
              "      <td>tênis infantil menina barbie calça fácil s/ ca...</td>\n",
              "      <td>tênis infantil menina barbie calça fácil s/ ca...</td>\n",
              "      <td>[[1.0]]</td>\n",
              "    </tr>\n",
              "    <tr>\n",
              "      <th>2699694</th>\n",
              "      <td>tênis esportivo rainha play original</td>\n",
              "      <td>tênis esportivo rainha play original</td>\n",
              "      <td>[[1.0]]</td>\n",
              "    </tr>\n",
              "    <tr>\n",
              "      <th>2627912</th>\n",
              "      <td>tenis feminino guide / 590 - olympikus (04) - ...</td>\n",
              "      <td>tenis feminino guide / 590 - olympikus (04) - ...</td>\n",
              "      <td>[[1.0]]</td>\n",
              "    </tr>\n",
              "    <tr>\n",
              "      <th>787819</th>\n",
              "      <td>tenis masculino casual oldsen academia esporte...</td>\n",
              "      <td>tenis masculino casual oldsen academia esporte...</td>\n",
              "      <td>[[1.0]]</td>\n",
              "    </tr>\n",
              "    <tr>\n",
              "      <th>...</th>\n",
              "      <td>...</td>\n",
              "      <td>...</td>\n",
              "      <td>...</td>\n",
              "    </tr>\n",
              "    <tr>\n",
              "      <th>1157696</th>\n",
              "      <td>smart tv philco ptv32g70sbl led hd 32  110v/220v</td>\n",
              "      <td>tênis fuzex workout training crossfit wod</td>\n",
              "      <td>[[0.40851957]]</td>\n",
              "    </tr>\n",
              "    <tr>\n",
              "      <th>1537093</th>\n",
              "      <td>bike mtb rava pressure 29</td>\n",
              "      <td>sapatos esportivos femininos com plataforma le...</td>\n",
              "      <td>[[0.40736347]]</td>\n",
              "    </tr>\n",
              "    <tr>\n",
              "      <th>591654</th>\n",
              "      <td>cannondale fsi carbon 4 2020</td>\n",
              "      <td>sapatênis masculino slipe on adulto pomoção luxo</td>\n",
              "      <td>[[0.40712065]]</td>\n",
              "    </tr>\n",
              "    <tr>\n",
              "      <th>1779013</th>\n",
              "      <td>smart tv hq hqstv43ny led 4k 43  110v/220v</td>\n",
              "      <td>tenis ous emergente copper essencial</td>\n",
              "      <td>[[0.4070005]]</td>\n",
              "    </tr>\n",
              "    <tr>\n",
              "      <th>591080</th>\n",
              "      <td>cannondale fsi carbon 4 2020</td>\n",
              "      <td>sapatenis infantil masculino tenis menino em c...</td>\n",
              "      <td>[[0.4055806]]</td>\n",
              "    </tr>\n",
              "  </tbody>\n",
              "</table>\n",
              "<p>3000000 rows × 3 columns</p>\n",
              "</div>\n",
              "      <button class=\"colab-df-convert\" onclick=\"convertToInteractive('df-bce59250-c525-46c7-94c8-f9b5119710c4')\"\n",
              "              title=\"Convert this dataframe to an interactive table.\"\n",
              "              style=\"display:none;\">\n",
              "        \n",
              "  <svg xmlns=\"http://www.w3.org/2000/svg\" height=\"24px\"viewBox=\"0 0 24 24\"\n",
              "       width=\"24px\">\n",
              "    <path d=\"M0 0h24v24H0V0z\" fill=\"none\"/>\n",
              "    <path d=\"M18.56 5.44l.94 2.06.94-2.06 2.06-.94-2.06-.94-.94-2.06-.94 2.06-2.06.94zm-11 1L8.5 8.5l.94-2.06 2.06-.94-2.06-.94L8.5 2.5l-.94 2.06-2.06.94zm10 10l.94 2.06.94-2.06 2.06-.94-2.06-.94-.94-2.06-.94 2.06-2.06.94z\"/><path d=\"M17.41 7.96l-1.37-1.37c-.4-.4-.92-.59-1.43-.59-.52 0-1.04.2-1.43.59L10.3 9.45l-7.72 7.72c-.78.78-.78 2.05 0 2.83L4 21.41c.39.39.9.59 1.41.59.51 0 1.02-.2 1.41-.59l7.78-7.78 2.81-2.81c.8-.78.8-2.07 0-2.86zM5.41 20L4 18.59l7.72-7.72 1.47 1.35L5.41 20z\"/>\n",
              "  </svg>\n",
              "      </button>\n",
              "      \n",
              "  <style>\n",
              "    .colab-df-container {\n",
              "      display:flex;\n",
              "      flex-wrap:wrap;\n",
              "      gap: 12px;\n",
              "    }\n",
              "\n",
              "    .colab-df-convert {\n",
              "      background-color: #E8F0FE;\n",
              "      border: none;\n",
              "      border-radius: 50%;\n",
              "      cursor: pointer;\n",
              "      display: none;\n",
              "      fill: #1967D2;\n",
              "      height: 32px;\n",
              "      padding: 0 0 0 0;\n",
              "      width: 32px;\n",
              "    }\n",
              "\n",
              "    .colab-df-convert:hover {\n",
              "      background-color: #E2EBFA;\n",
              "      box-shadow: 0px 1px 2px rgba(60, 64, 67, 0.3), 0px 1px 3px 1px rgba(60, 64, 67, 0.15);\n",
              "      fill: #174EA6;\n",
              "    }\n",
              "\n",
              "    [theme=dark] .colab-df-convert {\n",
              "      background-color: #3B4455;\n",
              "      fill: #D2E3FC;\n",
              "    }\n",
              "\n",
              "    [theme=dark] .colab-df-convert:hover {\n",
              "      background-color: #434B5C;\n",
              "      box-shadow: 0px 1px 3px 1px rgba(0, 0, 0, 0.15);\n",
              "      filter: drop-shadow(0px 1px 2px rgba(0, 0, 0, 0.3));\n",
              "      fill: #FFFFFF;\n",
              "    }\n",
              "  </style>\n",
              "\n",
              "      <script>\n",
              "        const buttonEl =\n",
              "          document.querySelector('#df-bce59250-c525-46c7-94c8-f9b5119710c4 button.colab-df-convert');\n",
              "        buttonEl.style.display =\n",
              "          google.colab.kernel.accessAllowed ? 'block' : 'none';\n",
              "\n",
              "        async function convertToInteractive(key) {\n",
              "          const element = document.querySelector('#df-bce59250-c525-46c7-94c8-f9b5119710c4');\n",
              "          const dataTable =\n",
              "            await google.colab.kernel.invokeFunction('convertToInteractive',\n",
              "                                                     [key], {});\n",
              "          if (!dataTable) return;\n",
              "\n",
              "          const docLinkHtml = 'Like what you see? Visit the ' +\n",
              "            '<a target=\"_blank\" href=https://colab.research.google.com/notebooks/data_table.ipynb>data table notebook</a>'\n",
              "            + ' to learn more about interactive tables.';\n",
              "          element.innerHTML = '';\n",
              "          dataTable['output_type'] = 'display_data';\n",
              "          await google.colab.output.renderOutput(dataTable, element);\n",
              "          const docLink = document.createElement('div');\n",
              "          docLink.innerHTML = docLinkHtml;\n",
              "          element.appendChild(docLink);\n",
              "        }\n",
              "      </script>\n",
              "    </div>\n",
              "  </div>\n",
              "  "
            ]
          },
          "metadata": {}
        }
      ]
    },
    {
      "cell_type": "markdown",
      "source": [
        "Dataframe criado e ordenado por similaridade usando Cosine Similarity."
      ],
      "metadata": {
        "id": "LdJ1zFCAfHvJ"
      }
    },
    {
      "cell_type": "code",
      "source": [
        "# Salvando resultado como csv\n",
        "df.to_csv('meli2_results.csv')"
      ],
      "metadata": {
        "id": "ac8jVX8puEpH"
      },
      "execution_count": 43,
      "outputs": []
    },
    {
      "cell_type": "markdown",
      "source": [
        "## Obrigado."
      ],
      "metadata": {
        "id": "R4aFCCfbEizW"
      }
    },
    {
      "cell_type": "markdown",
      "source": [
        "**Felipe Nobre**<br />\n",
        "*Aspirante a Cientista de Dados no MELI*<br /><br />\n",
        "Telefone: +55 19 99909-9510<br />\n",
        "E-mail: campostqe@gmail.com<br />\n",
        "LinkedIn: <a href=\"https://www.linkedin.com/in/felipenobrecampos/\">https://www.linkedin.com/in/felipenobrecampos/</a>"
      ],
      "metadata": {
        "id": "HfcVBDn6EkA7"
      }
    },
    {
      "cell_type": "code",
      "source": [],
      "metadata": {
        "id": "QhzHgGuHos6v"
      },
      "execution_count": null,
      "outputs": []
    }
  ]
}