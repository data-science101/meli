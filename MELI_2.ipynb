{
  "nbformat": 4,
  "nbformat_minor": 0,
  "metadata": {
    "colab": {
      "provenance": []
    },
    "kernelspec": {
      "name": "python3",
      "display_name": "Python 3"
    },
    "language_info": {
      "name": "python"
    }
  },
  "cells": [
    {
      "cell_type": "markdown",
      "source": [
        "<img src=\"https://s2.glbimg.com/Bu6upvmSg6SRv0za635uXphThKo=/620x430/e.glbimg.com/og/ed/f/original/2020/03/28/mercado-livre.jpg\" width=30%/>\n",
        "\n",
        "# Data Science Challenge - Data & Analytics Team\n",
        "## 2. Similitud entre productos\n",
        "\n",
        "### Descripción\n",
        "\n",
        "Un desafío constante en MELI es el de poder agrupar productos similares utilizando algunos atributos de estos como pueden ser el título, la descripción o su imagen.\n",
        "\n",
        "Para este desafío tenemos un dataset “items_titles.csv” que tiene títulos de 30 mil productos de 3 categorías diferentes de Mercado Libre Brasil.\n",
        "\n",
        "El objetivo del desafío es poder generar una Jupyter notebook que determine cuán similares son dos títulos del dataset “item_titles_test.csv” generando como output un listado de la forma...\n",
        "\n",
        "Donde ordenando por score de similitud podamos encontrar los pares de productos más similares en nuestro dataset de test."
      ],
      "metadata": {
        "id": "jtn_ZiFTCQ-I"
      }
    },
    {
      "cell_type": "code",
      "source": [
        "pip install -U sentence-transformers"
      ],
      "metadata": {
        "id": "h5O0ZQ5Ld1wj",
        "colab": {
          "base_uri": "https://localhost:8080/"
        },
        "outputId": "c1318185-66ac-4e22-e95f-4cd786627d73"
      },
      "execution_count": 1,
      "outputs": [
        {
          "output_type": "stream",
          "name": "stdout",
          "text": [
            "Looking in indexes: https://pypi.org/simple, https://us-python.pkg.dev/colab-wheels/public/simple/\n",
            "Requirement already satisfied: sentence-transformers in /usr/local/lib/python3.9/dist-packages (2.2.2)\n",
            "Requirement already satisfied: tqdm in /usr/local/lib/python3.9/dist-packages (from sentence-transformers) (4.65.0)\n",
            "Requirement already satisfied: huggingface-hub>=0.4.0 in /usr/local/lib/python3.9/dist-packages (from sentence-transformers) (0.13.3)\n",
            "Requirement already satisfied: torch>=1.6.0 in /usr/local/lib/python3.9/dist-packages (from sentence-transformers) (1.13.1+cu116)\n",
            "Requirement already satisfied: torchvision in /usr/local/lib/python3.9/dist-packages (from sentence-transformers) (0.14.1+cu116)\n",
            "Requirement already satisfied: scikit-learn in /usr/local/lib/python3.9/dist-packages (from sentence-transformers) (1.2.2)\n",
            "Requirement already satisfied: scipy in /usr/local/lib/python3.9/dist-packages (from sentence-transformers) (1.10.1)\n",
            "Requirement already satisfied: nltk in /usr/local/lib/python3.9/dist-packages (from sentence-transformers) (3.8.1)\n",
            "Requirement already satisfied: sentencepiece in /usr/local/lib/python3.9/dist-packages (from sentence-transformers) (0.1.97)\n",
            "Requirement already satisfied: numpy in /usr/local/lib/python3.9/dist-packages (from sentence-transformers) (1.22.4)\n",
            "Requirement already satisfied: transformers<5.0.0,>=4.6.0 in /usr/local/lib/python3.9/dist-packages (from sentence-transformers) (4.27.2)\n",
            "Requirement already satisfied: requests in /usr/local/lib/python3.9/dist-packages (from huggingface-hub>=0.4.0->sentence-transformers) (2.27.1)\n",
            "Requirement already satisfied: filelock in /usr/local/lib/python3.9/dist-packages (from huggingface-hub>=0.4.0->sentence-transformers) (3.10.0)\n",
            "Requirement already satisfied: packaging>=20.9 in /usr/local/lib/python3.9/dist-packages (from huggingface-hub>=0.4.0->sentence-transformers) (23.0)\n",
            "Requirement already satisfied: typing-extensions>=3.7.4.3 in /usr/local/lib/python3.9/dist-packages (from huggingface-hub>=0.4.0->sentence-transformers) (4.5.0)\n",
            "Requirement already satisfied: pyyaml>=5.1 in /usr/local/lib/python3.9/dist-packages (from huggingface-hub>=0.4.0->sentence-transformers) (6.0)\n",
            "Requirement already satisfied: regex!=2019.12.17 in /usr/local/lib/python3.9/dist-packages (from transformers<5.0.0,>=4.6.0->sentence-transformers) (2022.10.31)\n",
            "Requirement already satisfied: tokenizers!=0.11.3,<0.14,>=0.11.1 in /usr/local/lib/python3.9/dist-packages (from transformers<5.0.0,>=4.6.0->sentence-transformers) (0.13.2)\n",
            "Requirement already satisfied: click in /usr/local/lib/python3.9/dist-packages (from nltk->sentence-transformers) (8.1.3)\n",
            "Requirement already satisfied: joblib in /usr/local/lib/python3.9/dist-packages (from nltk->sentence-transformers) (1.1.1)\n",
            "Requirement already satisfied: threadpoolctl>=2.0.0 in /usr/local/lib/python3.9/dist-packages (from scikit-learn->sentence-transformers) (3.1.0)\n",
            "Requirement already satisfied: pillow!=8.3.*,>=5.3.0 in /usr/local/lib/python3.9/dist-packages (from torchvision->sentence-transformers) (8.4.0)\n",
            "Requirement already satisfied: certifi>=2017.4.17 in /usr/local/lib/python3.9/dist-packages (from requests->huggingface-hub>=0.4.0->sentence-transformers) (2022.12.7)\n",
            "Requirement already satisfied: urllib3<1.27,>=1.21.1 in /usr/local/lib/python3.9/dist-packages (from requests->huggingface-hub>=0.4.0->sentence-transformers) (1.26.15)\n",
            "Requirement already satisfied: charset-normalizer~=2.0.0 in /usr/local/lib/python3.9/dist-packages (from requests->huggingface-hub>=0.4.0->sentence-transformers) (2.0.12)\n",
            "Requirement already satisfied: idna<4,>=2.5 in /usr/local/lib/python3.9/dist-packages (from requests->huggingface-hub>=0.4.0->sentence-transformers) (3.4)\n"
          ]
        }
      ]
    },
    {
      "cell_type": "code",
      "source": [
        "from google.colab import drive\n",
        "drive.mount('/content/drive')"
      ],
      "metadata": {
        "colab": {
          "base_uri": "https://localhost:8080/"
        },
        "id": "H2dvtqFn3Ss9",
        "outputId": "7260d5c7-0bfd-48d7-ef8f-1f3fe7f4303b"
      },
      "execution_count": 2,
      "outputs": [
        {
          "output_type": "stream",
          "name": "stdout",
          "text": [
            "Drive already mounted at /content/drive; to attempt to forcibly remount, call drive.mount(\"/content/drive\", force_remount=True).\n"
          ]
        }
      ]
    },
    {
      "cell_type": "code",
      "source": [
        "import pandas as pd\n",
        "import numpy as np"
      ],
      "metadata": {
        "id": "DSWQ1njJ3TGh"
      },
      "execution_count": 3,
      "outputs": []
    },
    {
      "cell_type": "code",
      "source": [
        "# Armazenamento de csvs em variáveis\n",
        "train = pd.read_csv('/content/drive/MyDrive/Colab Notebooks/MELI/items_titles.csv')\n",
        "test = pd.read_csv('/content/drive/MyDrive/Colab Notebooks/MELI/items_titles_test.csv')"
      ],
      "metadata": {
        "id": "V8p4FEUI36aY"
      },
      "execution_count": 4,
      "outputs": []
    },
    {
      "cell_type": "code",
      "source": [
        "print(train.shape)\n",
        "print(test.shape)"
      ],
      "metadata": {
        "colab": {
          "base_uri": "https://localhost:8080/"
        },
        "id": "LSJw0yKYTVrQ",
        "outputId": "e8bc8871-4dff-428c-e8b1-f54f64f99fe0"
      },
      "execution_count": 5,
      "outputs": [
        {
          "output_type": "stream",
          "name": "stdout",
          "text": [
            "(30000, 1)\n",
            "(10000, 1)\n"
          ]
        }
      ]
    },
    {
      "cell_type": "code",
      "source": [
        "train.head()"
      ],
      "metadata": {
        "colab": {
          "base_uri": "https://localhost:8080/",
          "height": 206
        },
        "id": "2FUGsivI4BG5",
        "outputId": "12ff9360-3338-44c0-a0d6-f03cbc795872"
      },
      "execution_count": 6,
      "outputs": [
        {
          "output_type": "execute_result",
          "data": {
            "text/plain": [
              "                                      ITE_ITEM_TITLE\n",
              "0  Tênis Ascension Posh Masculino - Preto E Verme...\n",
              "1  Tenis Para Caminhada Super Levinho Spider Corr...\n",
              "2  Tênis Feminino Le Parc Hocks Black/ice Origina...\n",
              "3  Tênis Olympikus Esportivo Academia Nova Tendên...\n",
              "4  Inteligente Led Bicicleta Tauda Luz Usb Bicicl..."
            ],
            "text/html": [
              "\n",
              "  <div id=\"df-5c01a407-2f65-4859-9a16-d15f21e30399\">\n",
              "    <div class=\"colab-df-container\">\n",
              "      <div>\n",
              "<style scoped>\n",
              "    .dataframe tbody tr th:only-of-type {\n",
              "        vertical-align: middle;\n",
              "    }\n",
              "\n",
              "    .dataframe tbody tr th {\n",
              "        vertical-align: top;\n",
              "    }\n",
              "\n",
              "    .dataframe thead th {\n",
              "        text-align: right;\n",
              "    }\n",
              "</style>\n",
              "<table border=\"1\" class=\"dataframe\">\n",
              "  <thead>\n",
              "    <tr style=\"text-align: right;\">\n",
              "      <th></th>\n",
              "      <th>ITE_ITEM_TITLE</th>\n",
              "    </tr>\n",
              "  </thead>\n",
              "  <tbody>\n",
              "    <tr>\n",
              "      <th>0</th>\n",
              "      <td>Tênis Ascension Posh Masculino - Preto E Verme...</td>\n",
              "    </tr>\n",
              "    <tr>\n",
              "      <th>1</th>\n",
              "      <td>Tenis Para Caminhada Super Levinho Spider Corr...</td>\n",
              "    </tr>\n",
              "    <tr>\n",
              "      <th>2</th>\n",
              "      <td>Tênis Feminino Le Parc Hocks Black/ice Origina...</td>\n",
              "    </tr>\n",
              "    <tr>\n",
              "      <th>3</th>\n",
              "      <td>Tênis Olympikus Esportivo Academia Nova Tendên...</td>\n",
              "    </tr>\n",
              "    <tr>\n",
              "      <th>4</th>\n",
              "      <td>Inteligente Led Bicicleta Tauda Luz Usb Bicicl...</td>\n",
              "    </tr>\n",
              "  </tbody>\n",
              "</table>\n",
              "</div>\n",
              "      <button class=\"colab-df-convert\" onclick=\"convertToInteractive('df-5c01a407-2f65-4859-9a16-d15f21e30399')\"\n",
              "              title=\"Convert this dataframe to an interactive table.\"\n",
              "              style=\"display:none;\">\n",
              "        \n",
              "  <svg xmlns=\"http://www.w3.org/2000/svg\" height=\"24px\"viewBox=\"0 0 24 24\"\n",
              "       width=\"24px\">\n",
              "    <path d=\"M0 0h24v24H0V0z\" fill=\"none\"/>\n",
              "    <path d=\"M18.56 5.44l.94 2.06.94-2.06 2.06-.94-2.06-.94-.94-2.06-.94 2.06-2.06.94zm-11 1L8.5 8.5l.94-2.06 2.06-.94-2.06-.94L8.5 2.5l-.94 2.06-2.06.94zm10 10l.94 2.06.94-2.06 2.06-.94-2.06-.94-.94-2.06-.94 2.06-2.06.94z\"/><path d=\"M17.41 7.96l-1.37-1.37c-.4-.4-.92-.59-1.43-.59-.52 0-1.04.2-1.43.59L10.3 9.45l-7.72 7.72c-.78.78-.78 2.05 0 2.83L4 21.41c.39.39.9.59 1.41.59.51 0 1.02-.2 1.41-.59l7.78-7.78 2.81-2.81c.8-.78.8-2.07 0-2.86zM5.41 20L4 18.59l7.72-7.72 1.47 1.35L5.41 20z\"/>\n",
              "  </svg>\n",
              "      </button>\n",
              "      \n",
              "  <style>\n",
              "    .colab-df-container {\n",
              "      display:flex;\n",
              "      flex-wrap:wrap;\n",
              "      gap: 12px;\n",
              "    }\n",
              "\n",
              "    .colab-df-convert {\n",
              "      background-color: #E8F0FE;\n",
              "      border: none;\n",
              "      border-radius: 50%;\n",
              "      cursor: pointer;\n",
              "      display: none;\n",
              "      fill: #1967D2;\n",
              "      height: 32px;\n",
              "      padding: 0 0 0 0;\n",
              "      width: 32px;\n",
              "    }\n",
              "\n",
              "    .colab-df-convert:hover {\n",
              "      background-color: #E2EBFA;\n",
              "      box-shadow: 0px 1px 2px rgba(60, 64, 67, 0.3), 0px 1px 3px 1px rgba(60, 64, 67, 0.15);\n",
              "      fill: #174EA6;\n",
              "    }\n",
              "\n",
              "    [theme=dark] .colab-df-convert {\n",
              "      background-color: #3B4455;\n",
              "      fill: #D2E3FC;\n",
              "    }\n",
              "\n",
              "    [theme=dark] .colab-df-convert:hover {\n",
              "      background-color: #434B5C;\n",
              "      box-shadow: 0px 1px 3px 1px rgba(0, 0, 0, 0.15);\n",
              "      filter: drop-shadow(0px 1px 2px rgba(0, 0, 0, 0.3));\n",
              "      fill: #FFFFFF;\n",
              "    }\n",
              "  </style>\n",
              "\n",
              "      <script>\n",
              "        const buttonEl =\n",
              "          document.querySelector('#df-5c01a407-2f65-4859-9a16-d15f21e30399 button.colab-df-convert');\n",
              "        buttonEl.style.display =\n",
              "          google.colab.kernel.accessAllowed ? 'block' : 'none';\n",
              "\n",
              "        async function convertToInteractive(key) {\n",
              "          const element = document.querySelector('#df-5c01a407-2f65-4859-9a16-d15f21e30399');\n",
              "          const dataTable =\n",
              "            await google.colab.kernel.invokeFunction('convertToInteractive',\n",
              "                                                     [key], {});\n",
              "          if (!dataTable) return;\n",
              "\n",
              "          const docLinkHtml = 'Like what you see? Visit the ' +\n",
              "            '<a target=\"_blank\" href=https://colab.research.google.com/notebooks/data_table.ipynb>data table notebook</a>'\n",
              "            + ' to learn more about interactive tables.';\n",
              "          element.innerHTML = '';\n",
              "          dataTable['output_type'] = 'display_data';\n",
              "          await google.colab.output.renderOutput(dataTable, element);\n",
              "          const docLink = document.createElement('div');\n",
              "          docLink.innerHTML = docLinkHtml;\n",
              "          element.appendChild(docLink);\n",
              "        }\n",
              "      </script>\n",
              "    </div>\n",
              "  </div>\n",
              "  "
            ]
          },
          "metadata": {},
          "execution_count": 6
        }
      ]
    },
    {
      "cell_type": "code",
      "source": [
        "test.head()"
      ],
      "metadata": {
        "colab": {
          "base_uri": "https://localhost:8080/",
          "height": 206
        },
        "id": "fnBWchyD4Guo",
        "outputId": "2a4ef78c-5dba-4102-d839-f03a150ba1fc"
      },
      "execution_count": 7,
      "outputs": [
        {
          "output_type": "execute_result",
          "data": {
            "text/plain": [
              "                                      ITE_ITEM_TITLE\n",
              "0   Tênis Olympikus Esporte Valente - Masculino Kids\n",
              "1  Bicicleta Barra Forte Samy C/ 6 Marchas Cubo C...\n",
              "2       Tênis Usthemp Slip-on Temático - Labrador 2\n",
              "3        Tênis Casual Feminino Moleca Tecido Tie Dye\n",
              "4        Tênis Star Baby Sapatinho Conforto + Brinde"
            ],
            "text/html": [
              "\n",
              "  <div id=\"df-a86d1083-0e35-4991-8e90-2ae607c4fa20\">\n",
              "    <div class=\"colab-df-container\">\n",
              "      <div>\n",
              "<style scoped>\n",
              "    .dataframe tbody tr th:only-of-type {\n",
              "        vertical-align: middle;\n",
              "    }\n",
              "\n",
              "    .dataframe tbody tr th {\n",
              "        vertical-align: top;\n",
              "    }\n",
              "\n",
              "    .dataframe thead th {\n",
              "        text-align: right;\n",
              "    }\n",
              "</style>\n",
              "<table border=\"1\" class=\"dataframe\">\n",
              "  <thead>\n",
              "    <tr style=\"text-align: right;\">\n",
              "      <th></th>\n",
              "      <th>ITE_ITEM_TITLE</th>\n",
              "    </tr>\n",
              "  </thead>\n",
              "  <tbody>\n",
              "    <tr>\n",
              "      <th>0</th>\n",
              "      <td>Tênis Olympikus Esporte Valente - Masculino Kids</td>\n",
              "    </tr>\n",
              "    <tr>\n",
              "      <th>1</th>\n",
              "      <td>Bicicleta Barra Forte Samy C/ 6 Marchas Cubo C...</td>\n",
              "    </tr>\n",
              "    <tr>\n",
              "      <th>2</th>\n",
              "      <td>Tênis Usthemp Slip-on Temático - Labrador 2</td>\n",
              "    </tr>\n",
              "    <tr>\n",
              "      <th>3</th>\n",
              "      <td>Tênis Casual Feminino Moleca Tecido Tie Dye</td>\n",
              "    </tr>\n",
              "    <tr>\n",
              "      <th>4</th>\n",
              "      <td>Tênis Star Baby Sapatinho Conforto + Brinde</td>\n",
              "    </tr>\n",
              "  </tbody>\n",
              "</table>\n",
              "</div>\n",
              "      <button class=\"colab-df-convert\" onclick=\"convertToInteractive('df-a86d1083-0e35-4991-8e90-2ae607c4fa20')\"\n",
              "              title=\"Convert this dataframe to an interactive table.\"\n",
              "              style=\"display:none;\">\n",
              "        \n",
              "  <svg xmlns=\"http://www.w3.org/2000/svg\" height=\"24px\"viewBox=\"0 0 24 24\"\n",
              "       width=\"24px\">\n",
              "    <path d=\"M0 0h24v24H0V0z\" fill=\"none\"/>\n",
              "    <path d=\"M18.56 5.44l.94 2.06.94-2.06 2.06-.94-2.06-.94-.94-2.06-.94 2.06-2.06.94zm-11 1L8.5 8.5l.94-2.06 2.06-.94-2.06-.94L8.5 2.5l-.94 2.06-2.06.94zm10 10l.94 2.06.94-2.06 2.06-.94-2.06-.94-.94-2.06-.94 2.06-2.06.94z\"/><path d=\"M17.41 7.96l-1.37-1.37c-.4-.4-.92-.59-1.43-.59-.52 0-1.04.2-1.43.59L10.3 9.45l-7.72 7.72c-.78.78-.78 2.05 0 2.83L4 21.41c.39.39.9.59 1.41.59.51 0 1.02-.2 1.41-.59l7.78-7.78 2.81-2.81c.8-.78.8-2.07 0-2.86zM5.41 20L4 18.59l7.72-7.72 1.47 1.35L5.41 20z\"/>\n",
              "  </svg>\n",
              "      </button>\n",
              "      \n",
              "  <style>\n",
              "    .colab-df-container {\n",
              "      display:flex;\n",
              "      flex-wrap:wrap;\n",
              "      gap: 12px;\n",
              "    }\n",
              "\n",
              "    .colab-df-convert {\n",
              "      background-color: #E8F0FE;\n",
              "      border: none;\n",
              "      border-radius: 50%;\n",
              "      cursor: pointer;\n",
              "      display: none;\n",
              "      fill: #1967D2;\n",
              "      height: 32px;\n",
              "      padding: 0 0 0 0;\n",
              "      width: 32px;\n",
              "    }\n",
              "\n",
              "    .colab-df-convert:hover {\n",
              "      background-color: #E2EBFA;\n",
              "      box-shadow: 0px 1px 2px rgba(60, 64, 67, 0.3), 0px 1px 3px 1px rgba(60, 64, 67, 0.15);\n",
              "      fill: #174EA6;\n",
              "    }\n",
              "\n",
              "    [theme=dark] .colab-df-convert {\n",
              "      background-color: #3B4455;\n",
              "      fill: #D2E3FC;\n",
              "    }\n",
              "\n",
              "    [theme=dark] .colab-df-convert:hover {\n",
              "      background-color: #434B5C;\n",
              "      box-shadow: 0px 1px 3px 1px rgba(0, 0, 0, 0.15);\n",
              "      filter: drop-shadow(0px 1px 2px rgba(0, 0, 0, 0.3));\n",
              "      fill: #FFFFFF;\n",
              "    }\n",
              "  </style>\n",
              "\n",
              "      <script>\n",
              "        const buttonEl =\n",
              "          document.querySelector('#df-a86d1083-0e35-4991-8e90-2ae607c4fa20 button.colab-df-convert');\n",
              "        buttonEl.style.display =\n",
              "          google.colab.kernel.accessAllowed ? 'block' : 'none';\n",
              "\n",
              "        async function convertToInteractive(key) {\n",
              "          const element = document.querySelector('#df-a86d1083-0e35-4991-8e90-2ae607c4fa20');\n",
              "          const dataTable =\n",
              "            await google.colab.kernel.invokeFunction('convertToInteractive',\n",
              "                                                     [key], {});\n",
              "          if (!dataTable) return;\n",
              "\n",
              "          const docLinkHtml = 'Like what you see? Visit the ' +\n",
              "            '<a target=\"_blank\" href=https://colab.research.google.com/notebooks/data_table.ipynb>data table notebook</a>'\n",
              "            + ' to learn more about interactive tables.';\n",
              "          element.innerHTML = '';\n",
              "          dataTable['output_type'] = 'display_data';\n",
              "          await google.colab.output.renderOutput(dataTable, element);\n",
              "          const docLink = document.createElement('div');\n",
              "          docLink.innerHTML = docLinkHtml;\n",
              "          element.appendChild(docLink);\n",
              "        }\n",
              "      </script>\n",
              "    </div>\n",
              "  </div>\n",
              "  "
            ]
          },
          "metadata": {},
          "execution_count": 7
        }
      ]
    },
    {
      "cell_type": "code",
      "source": [
        "# Importando SentenceTransformer\n",
        "from sentence_transformers import SentenceTransformer\n",
        "\n",
        "# Instanciando o modelo pré-treinado all-MiniLM-L6-v2 do Hugging Face (https://huggingface.co/sentence-transformers/all-MiniLM-L6-v2)\n",
        "model = SentenceTransformer('sentence-transformers/all-MiniLM-L6-v2')"
      ],
      "metadata": {
        "id": "T_4m_cQJdvZN"
      },
      "execution_count": 8,
      "outputs": []
    },
    {
      "cell_type": "code",
      "source": [
        "# Importando Cosine Similarity do Scikit-learn\n",
        "from sklearn.metrics.pairwise import cosine_similarity"
      ],
      "metadata": {
        "id": "4riiFLcjecps"
      },
      "execution_count": 9,
      "outputs": []
    },
    {
      "cell_type": "code",
      "source": [
        "# Encoding de valores do dataset train usando o model (all-MiniLM-L6-v2)\n",
        "train_vecs = model.encode(train['ITE_ITEM_TITLE'])"
      ],
      "metadata": {
        "id": "W2ebF_85eut9"
      },
      "execution_count": 10,
      "outputs": []
    },
    {
      "cell_type": "code",
      "source": [
        "train_vecs.shape"
      ],
      "metadata": {
        "colab": {
          "base_uri": "https://localhost:8080/"
        },
        "id": "d9NsQKJYe7wy",
        "outputId": "6c044301-bdda-4524-ce2c-d699bd06e3b1"
      },
      "execution_count": 11,
      "outputs": [
        {
          "output_type": "execute_result",
          "data": {
            "text/plain": [
              "(30000, 384)"
            ]
          },
          "metadata": {},
          "execution_count": 11
        }
      ]
    },
    {
      "cell_type": "markdown",
      "source": [
        "Temos um array com 3.000 linhas e 384 de tamanho no hidden state size do modelo Bert."
      ],
      "metadata": {
        "id": "xcMd6wMdD7ye"
      }
    },
    {
      "cell_type": "code",
      "source": [
        "train_vecs"
      ],
      "metadata": {
        "colab": {
          "base_uri": "https://localhost:8080/"
        },
        "id": "OuqAd-23fABt",
        "outputId": "d2da652a-f253-475f-9350-e026e963180e"
      },
      "execution_count": 12,
      "outputs": [
        {
          "output_type": "execute_result",
          "data": {
            "text/plain": [
              "array([[-1.0410467e-01,  8.3035901e-02, -1.2613893e-04, ...,\n",
              "         9.0357788e-02, -2.2680234e-02, -5.2821346e-02],\n",
              "       [-4.4692412e-02,  4.1617818e-02, -1.4046744e-01, ...,\n",
              "         5.1465411e-02, -3.9132010e-02,  8.1661744e-03],\n",
              "       [-8.9592695e-02,  6.8836719e-02, -3.5719515e-03, ...,\n",
              "         7.8193679e-02, -3.7878539e-02,  4.1248425e-04],\n",
              "       ...,\n",
              "       [-6.9650076e-02,  1.8741334e-02,  7.2399718e-03, ...,\n",
              "         7.2441429e-02, -8.5498290e-03, -3.1157778e-04],\n",
              "       [-9.9700317e-02,  1.5545686e-02,  4.1094311e-02, ...,\n",
              "         2.7461603e-02,  6.2089324e-02, -9.3999721e-02],\n",
              "       [-7.9272017e-02,  1.8710706e-02, -7.3789090e-02, ...,\n",
              "         1.8070578e-03, -3.4365531e-03, -7.8087091e-02]], dtype=float32)"
            ]
          },
          "metadata": {},
          "execution_count": 12
        }
      ]
    },
    {
      "cell_type": "code",
      "source": [
        "# Encoding de valores do dataset test usando o model (all-MiniLM-L6-v2)\n",
        "test_vecs = model.encode(test['ITE_ITEM_TITLE'])"
      ],
      "metadata": {
        "id": "EEamDiDqiD7Z"
      },
      "execution_count": 13,
      "outputs": []
    },
    {
      "cell_type": "code",
      "source": [
        "test_vecs.shape"
      ],
      "metadata": {
        "colab": {
          "base_uri": "https://localhost:8080/"
        },
        "id": "4z6BTnHTi1Y9",
        "outputId": "3d5c1830-8a1f-4912-e640-e3b76d995865"
      },
      "execution_count": 14,
      "outputs": [
        {
          "output_type": "execute_result",
          "data": {
            "text/plain": [
              "(10000, 384)"
            ]
          },
          "metadata": {},
          "execution_count": 14
        }
      ]
    },
    {
      "cell_type": "markdown",
      "source": [
        "Temos um array com 1000 linhas e 384 de tamanho no hidden state size do modelo Bert."
      ],
      "metadata": {
        "id": "kvngu_yRD9sD"
      }
    },
    {
      "cell_type": "code",
      "source": [
        "test_vecs"
      ],
      "metadata": {
        "colab": {
          "base_uri": "https://localhost:8080/"
        },
        "id": "hAM1Hm9qiNIh",
        "outputId": "27480128-f6bf-4a21-f7e2-55bba1d300ec"
      },
      "execution_count": 15,
      "outputs": [
        {
          "output_type": "execute_result",
          "data": {
            "text/plain": [
              "array([[-0.01816418,  0.12168916, -0.00326645, ...,  0.08843251,\n",
              "         0.08487038, -0.03037256],\n",
              "       [-0.04601841,  0.07405472, -0.1056786 , ..., -0.04466264,\n",
              "        -0.00369643, -0.01232435],\n",
              "       [-0.08496193, -0.06072852,  0.05279116, ..., -0.00343313,\n",
              "        -0.00308601, -0.06607358],\n",
              "       ...,\n",
              "       [-0.03341956,  0.0230679 , -0.02346489, ..., -0.06607258,\n",
              "         0.1327506 , -0.01943892],\n",
              "       [-0.00553372,  0.07026482, -0.01061806, ...,  0.08500759,\n",
              "         0.01786495, -0.05440037],\n",
              "       [-0.02435026,  0.03572162,  0.0352535 , ..., -0.06202542,\n",
              "        -0.06639925, -0.04696418]], dtype=float32)"
            ]
          },
          "metadata": {},
          "execution_count": 15
        }
      ]
    },
    {
      "cell_type": "code",
      "source": [
        "train_vecs"
      ],
      "metadata": {
        "colab": {
          "base_uri": "https://localhost:8080/"
        },
        "id": "Puo7o6zFciHb",
        "outputId": "2ad3f71e-b72b-49ae-d055-208ad7e0c75b"
      },
      "execution_count": 16,
      "outputs": [
        {
          "output_type": "execute_result",
          "data": {
            "text/plain": [
              "array([[-1.0410467e-01,  8.3035901e-02, -1.2613893e-04, ...,\n",
              "         9.0357788e-02, -2.2680234e-02, -5.2821346e-02],\n",
              "       [-4.4692412e-02,  4.1617818e-02, -1.4046744e-01, ...,\n",
              "         5.1465411e-02, -3.9132010e-02,  8.1661744e-03],\n",
              "       [-8.9592695e-02,  6.8836719e-02, -3.5719515e-03, ...,\n",
              "         7.8193679e-02, -3.7878539e-02,  4.1248425e-04],\n",
              "       ...,\n",
              "       [-6.9650076e-02,  1.8741334e-02,  7.2399718e-03, ...,\n",
              "         7.2441429e-02, -8.5498290e-03, -3.1157778e-04],\n",
              "       [-9.9700317e-02,  1.5545686e-02,  4.1094311e-02, ...,\n",
              "         2.7461603e-02,  6.2089324e-02, -9.3999721e-02],\n",
              "       [-7.9272017e-02,  1.8710706e-02, -7.3789090e-02, ...,\n",
              "         1.8070578e-03, -3.4365531e-03, -7.8087091e-02]], dtype=float32)"
            ]
          },
          "metadata": {},
          "execution_count": 16
        }
      ]
    },
    {
      "cell_type": "code",
      "source": [
        "pip install levenshtein"
      ],
      "metadata": {
        "colab": {
          "base_uri": "https://localhost:8080/"
        },
        "id": "08Z51YFcCS-M",
        "outputId": "33e1f6b9-76a7-4607-85c3-26cc5ab135eb"
      },
      "execution_count": 20,
      "outputs": [
        {
          "output_type": "stream",
          "name": "stdout",
          "text": [
            "Looking in indexes: https://pypi.org/simple, https://us-python.pkg.dev/colab-wheels/public/simple/\n",
            "Collecting levenshtein\n",
            "  Downloading Levenshtein-0.20.9-cp39-cp39-manylinux_2_17_x86_64.manylinux2014_x86_64.whl (175 kB)\n",
            "\u001b[2K     \u001b[90m━━━━━━━━━━━━━━━━━━━━━━━━━━━━━━━━━━━━━━━\u001b[0m \u001b[32m175.5/175.5 KB\u001b[0m \u001b[31m4.5 MB/s\u001b[0m eta \u001b[36m0:00:00\u001b[0m\n",
            "\u001b[?25hCollecting rapidfuzz<3.0.0,>=2.3.0\n",
            "  Downloading rapidfuzz-2.13.7-cp39-cp39-manylinux_2_17_x86_64.manylinux2014_x86_64.whl (2.2 MB)\n",
            "\u001b[2K     \u001b[90m━━━━━━━━━━━━━━━━━━━━━━━━━━━━━━━━━━━━━━━━\u001b[0m \u001b[32m2.2/2.2 MB\u001b[0m \u001b[31m30.3 MB/s\u001b[0m eta \u001b[36m0:00:00\u001b[0m\n",
            "\u001b[?25hInstalling collected packages: rapidfuzz, levenshtein\n",
            "Successfully installed levenshtein-0.20.9 rapidfuzz-2.13.7\n"
          ]
        }
      ]
    },
    {
      "cell_type": "code",
      "source": [
        "import numpy as np\n",
        "import pandas as pd\n",
        "from tqdm import tqdm\n",
        "from Levenshtein import distance as levenshtein_distance\n",
        "\n",
        "# create empty arrays to store variables in the loop\n",
        "word_train = np.empty((len(train)//10, 300), dtype=np.float32)\n",
        "word_test = np.empty((len(test)//10, 300), dtype=np.float32)\n",
        "word_similarity = np.empty((len(train)//10, len(test)//10), dtype=np.float32)\n",
        "original_train = np.empty(len(train)//10, dtype=object)\n",
        "original_test = np.empty(len(test)//10, dtype=object)\n",
        "\n",
        "# loop through a sample of the datasets and calculate Levenshtein similarity\n",
        "for i in tqdm(range(0, len(train), 10)):\n",
        "    for j in range(0, len(test), 10):\n",
        "        # calculate Levenshtein similarity\n",
        "        similarity = 1 - levenshtein_distance(train['ITE_ITEM_TITLE'][i], test['ITE_ITEM_TITLE'][j]) / max(len(train['ITE_ITEM_TITLE'][i]), len(test['ITE_ITEM_TITLE'][j]))\n",
        "        \n",
        "        # resize source arrays to match target array shape\n",
        "        train_vecs_resized = train_vecs[i][:300]\n",
        "        test_vecs_resized = test_vecs[j][:300]\n",
        "        \n",
        "        # save items in arrays\n",
        "        word_train[i//10] = train_vecs_resized\n",
        "        word_test[j//10] = test_vecs_resized\n",
        "        word_similarity[i//10][j//10] = similarity\n",
        "        original_train[i//10] = train['ITE_ITEM_TITLE'][i]\n",
        "        original_test[j//10] = test['ITE_ITEM_TITLE'][j]\n",
        "\n",
        "# create dataframe\n",
        "df = pd.DataFrame({\n",
        "    'ITE_ITEM_TITLE': original_train.repeat(len(test)//10),\n",
        "    'ITE_ITEM_TITLE2': np.tile(original_test, len(train)//10),\n",
        "    'Score Similitud (0,1)': word_similarity.flatten()\n",
        "})\n"
      ],
      "metadata": {
        "id": "sQWB52gJsdAR",
        "colab": {
          "base_uri": "https://localhost:8080/"
        },
        "outputId": "3befed3f-269c-480a-aaaf-1d7f410a4463"
      },
      "execution_count": 35,
      "outputs": [
        {
          "output_type": "stream",
          "name": "stderr",
          "text": [
            "100%|██████████| 3000/3000 [02:29<00:00, 20.06it/s]\n"
          ]
        }
      ]
    },
    {
      "cell_type": "code",
      "source": [
        "# Visualização do dataframe ordenado de maneira decrescente pela similaridade\n",
        "df = df.sort_values(by='Score Similitud (0,1)', ascending=False)\n",
        "display(df)"
      ],
      "metadata": {
        "colab": {
          "base_uri": "https://localhost:8080/",
          "height": 424
        },
        "id": "T93na8btjaZZ",
        "outputId": "a03caff6-5678-4d7c-9fd4-6b2393527a16"
      },
      "execution_count": 37,
      "outputs": [
        {
          "output_type": "display_data",
          "data": {
            "text/plain": [
              "                                            ITE_ITEM_TITLE  \\\n",
              "676456   Tênis Feminino Esportivo Wave Prophecy 9 Pro 9...   \n",
              "2923745                               Tênis Air Jordan Mid   \n",
              "2849678  Sapatenis Polo Bra Sapatilha Polo Leve 2 Pague...   \n",
              "2279985  Bicicleta Tsw Evo Quest Gx 12v 29x19 Az Metalico    \n",
              "626878   Tenis Feminino Tie Dye Estilo Babuche Slip Con...   \n",
              "...                                                    ...   \n",
              "2830374                                              Gtsm1   \n",
              "1567211                                    Tv 24 Polegadas   \n",
              "2307483                    Tênis Promoção Branco Número 41   \n",
              "617397                                   Tv 42p LG 42ld460   \n",
              "2830288                                              Gtsm1   \n",
              "\n",
              "                                           ITE_ITEM_TITLE2  \\\n",
              "676456   Tênis Feminino Esportivo Wave Prophecy 9 Pro 9...   \n",
              "2923745                               Tênis Air Jordan Mid   \n",
              "2849678  Sapatenis Polo Bra Sapatilha Polo Leve 2 Pague...   \n",
              "2279985  Bicicleta Tsw Evo Quest Gx 12v 29x19 Az Metalico    \n",
              "626878   Tenis Feminino Tie Dye Estilo Babuche Slip Con...   \n",
              "...                                                    ...   \n",
              "2830374                                         J1 Seafoam   \n",
              "1567211                                    Bike Bmw Aro 26   \n",
              "2307483                    Burberry - Tênis Xadrez Vintage   \n",
              "617397                                                Piso   \n",
              "2830288                                  Bike Audax Adx300   \n",
              "\n",
              "         Score Similitud (0,1)  \n",
              "676456                     1.0  \n",
              "2923745                    1.0  \n",
              "2849678                    1.0  \n",
              "2279985                    1.0  \n",
              "626878                     1.0  \n",
              "...                        ...  \n",
              "2830374                    0.0  \n",
              "1567211                    0.0  \n",
              "2307483                    0.0  \n",
              "617397                     0.0  \n",
              "2830288                    0.0  \n",
              "\n",
              "[3000000 rows x 3 columns]"
            ],
            "text/html": [
              "\n",
              "  <div id=\"df-eb36d1ee-ac87-4efb-97f3-aea01b44047e\">\n",
              "    <div class=\"colab-df-container\">\n",
              "      <div>\n",
              "<style scoped>\n",
              "    .dataframe tbody tr th:only-of-type {\n",
              "        vertical-align: middle;\n",
              "    }\n",
              "\n",
              "    .dataframe tbody tr th {\n",
              "        vertical-align: top;\n",
              "    }\n",
              "\n",
              "    .dataframe thead th {\n",
              "        text-align: right;\n",
              "    }\n",
              "</style>\n",
              "<table border=\"1\" class=\"dataframe\">\n",
              "  <thead>\n",
              "    <tr style=\"text-align: right;\">\n",
              "      <th></th>\n",
              "      <th>ITE_ITEM_TITLE</th>\n",
              "      <th>ITE_ITEM_TITLE2</th>\n",
              "      <th>Score Similitud (0,1)</th>\n",
              "    </tr>\n",
              "  </thead>\n",
              "  <tbody>\n",
              "    <tr>\n",
              "      <th>676456</th>\n",
              "      <td>Tênis Feminino Esportivo Wave Prophecy 9 Pro 9...</td>\n",
              "      <td>Tênis Feminino Esportivo Wave Prophecy 9 Pro 9...</td>\n",
              "      <td>1.0</td>\n",
              "    </tr>\n",
              "    <tr>\n",
              "      <th>2923745</th>\n",
              "      <td>Tênis Air Jordan Mid</td>\n",
              "      <td>Tênis Air Jordan Mid</td>\n",
              "      <td>1.0</td>\n",
              "    </tr>\n",
              "    <tr>\n",
              "      <th>2849678</th>\n",
              "      <td>Sapatenis Polo Bra Sapatilha Polo Leve 2 Pague...</td>\n",
              "      <td>Sapatenis Polo Bra Sapatilha Polo Leve 2 Pague...</td>\n",
              "      <td>1.0</td>\n",
              "    </tr>\n",
              "    <tr>\n",
              "      <th>2279985</th>\n",
              "      <td>Bicicleta Tsw Evo Quest Gx 12v 29x19 Az Metalico</td>\n",
              "      <td>Bicicleta Tsw Evo Quest Gx 12v 29x19 Az Metalico</td>\n",
              "      <td>1.0</td>\n",
              "    </tr>\n",
              "    <tr>\n",
              "      <th>626878</th>\n",
              "      <td>Tenis Feminino Tie Dye Estilo Babuche Slip Con...</td>\n",
              "      <td>Tenis Feminino Tie Dye Estilo Babuche Slip Con...</td>\n",
              "      <td>1.0</td>\n",
              "    </tr>\n",
              "    <tr>\n",
              "      <th>...</th>\n",
              "      <td>...</td>\n",
              "      <td>...</td>\n",
              "      <td>...</td>\n",
              "    </tr>\n",
              "    <tr>\n",
              "      <th>2830374</th>\n",
              "      <td>Gtsm1</td>\n",
              "      <td>J1 Seafoam</td>\n",
              "      <td>0.0</td>\n",
              "    </tr>\n",
              "    <tr>\n",
              "      <th>1567211</th>\n",
              "      <td>Tv 24 Polegadas</td>\n",
              "      <td>Bike Bmw Aro 26</td>\n",
              "      <td>0.0</td>\n",
              "    </tr>\n",
              "    <tr>\n",
              "      <th>2307483</th>\n",
              "      <td>Tênis Promoção Branco Número 41</td>\n",
              "      <td>Burberry - Tênis Xadrez Vintage</td>\n",
              "      <td>0.0</td>\n",
              "    </tr>\n",
              "    <tr>\n",
              "      <th>617397</th>\n",
              "      <td>Tv 42p LG 42ld460</td>\n",
              "      <td>Piso</td>\n",
              "      <td>0.0</td>\n",
              "    </tr>\n",
              "    <tr>\n",
              "      <th>2830288</th>\n",
              "      <td>Gtsm1</td>\n",
              "      <td>Bike Audax Adx300</td>\n",
              "      <td>0.0</td>\n",
              "    </tr>\n",
              "  </tbody>\n",
              "</table>\n",
              "<p>3000000 rows × 3 columns</p>\n",
              "</div>\n",
              "      <button class=\"colab-df-convert\" onclick=\"convertToInteractive('df-eb36d1ee-ac87-4efb-97f3-aea01b44047e')\"\n",
              "              title=\"Convert this dataframe to an interactive table.\"\n",
              "              style=\"display:none;\">\n",
              "        \n",
              "  <svg xmlns=\"http://www.w3.org/2000/svg\" height=\"24px\"viewBox=\"0 0 24 24\"\n",
              "       width=\"24px\">\n",
              "    <path d=\"M0 0h24v24H0V0z\" fill=\"none\"/>\n",
              "    <path d=\"M18.56 5.44l.94 2.06.94-2.06 2.06-.94-2.06-.94-.94-2.06-.94 2.06-2.06.94zm-11 1L8.5 8.5l.94-2.06 2.06-.94-2.06-.94L8.5 2.5l-.94 2.06-2.06.94zm10 10l.94 2.06.94-2.06 2.06-.94-2.06-.94-.94-2.06-.94 2.06-2.06.94z\"/><path d=\"M17.41 7.96l-1.37-1.37c-.4-.4-.92-.59-1.43-.59-.52 0-1.04.2-1.43.59L10.3 9.45l-7.72 7.72c-.78.78-.78 2.05 0 2.83L4 21.41c.39.39.9.59 1.41.59.51 0 1.02-.2 1.41-.59l7.78-7.78 2.81-2.81c.8-.78.8-2.07 0-2.86zM5.41 20L4 18.59l7.72-7.72 1.47 1.35L5.41 20z\"/>\n",
              "  </svg>\n",
              "      </button>\n",
              "      \n",
              "  <style>\n",
              "    .colab-df-container {\n",
              "      display:flex;\n",
              "      flex-wrap:wrap;\n",
              "      gap: 12px;\n",
              "    }\n",
              "\n",
              "    .colab-df-convert {\n",
              "      background-color: #E8F0FE;\n",
              "      border: none;\n",
              "      border-radius: 50%;\n",
              "      cursor: pointer;\n",
              "      display: none;\n",
              "      fill: #1967D2;\n",
              "      height: 32px;\n",
              "      padding: 0 0 0 0;\n",
              "      width: 32px;\n",
              "    }\n",
              "\n",
              "    .colab-df-convert:hover {\n",
              "      background-color: #E2EBFA;\n",
              "      box-shadow: 0px 1px 2px rgba(60, 64, 67, 0.3), 0px 1px 3px 1px rgba(60, 64, 67, 0.15);\n",
              "      fill: #174EA6;\n",
              "    }\n",
              "\n",
              "    [theme=dark] .colab-df-convert {\n",
              "      background-color: #3B4455;\n",
              "      fill: #D2E3FC;\n",
              "    }\n",
              "\n",
              "    [theme=dark] .colab-df-convert:hover {\n",
              "      background-color: #434B5C;\n",
              "      box-shadow: 0px 1px 3px 1px rgba(0, 0, 0, 0.15);\n",
              "      filter: drop-shadow(0px 1px 2px rgba(0, 0, 0, 0.3));\n",
              "      fill: #FFFFFF;\n",
              "    }\n",
              "  </style>\n",
              "\n",
              "      <script>\n",
              "        const buttonEl =\n",
              "          document.querySelector('#df-eb36d1ee-ac87-4efb-97f3-aea01b44047e button.colab-df-convert');\n",
              "        buttonEl.style.display =\n",
              "          google.colab.kernel.accessAllowed ? 'block' : 'none';\n",
              "\n",
              "        async function convertToInteractive(key) {\n",
              "          const element = document.querySelector('#df-eb36d1ee-ac87-4efb-97f3-aea01b44047e');\n",
              "          const dataTable =\n",
              "            await google.colab.kernel.invokeFunction('convertToInteractive',\n",
              "                                                     [key], {});\n",
              "          if (!dataTable) return;\n",
              "\n",
              "          const docLinkHtml = 'Like what you see? Visit the ' +\n",
              "            '<a target=\"_blank\" href=https://colab.research.google.com/notebooks/data_table.ipynb>data table notebook</a>'\n",
              "            + ' to learn more about interactive tables.';\n",
              "          element.innerHTML = '';\n",
              "          dataTable['output_type'] = 'display_data';\n",
              "          await google.colab.output.renderOutput(dataTable, element);\n",
              "          const docLink = document.createElement('div');\n",
              "          docLink.innerHTML = docLinkHtml;\n",
              "          element.appendChild(docLink);\n",
              "        }\n",
              "      </script>\n",
              "    </div>\n",
              "  </div>\n",
              "  "
            ]
          },
          "metadata": {}
        }
      ]
    },
    {
      "cell_type": "markdown",
      "source": [
        "Dataframe criado e ordenado por similaridade usando Cosine Similarity."
      ],
      "metadata": {
        "id": "LdJ1zFCAfHvJ"
      }
    },
    {
      "cell_type": "code",
      "source": [
        "# Salvando resultado como csv\n",
        "df.to_csv('meli2_results.csv')"
      ],
      "metadata": {
        "id": "ac8jVX8puEpH"
      },
      "execution_count": 38,
      "outputs": []
    },
    {
      "cell_type": "markdown",
      "source": [
        "## Obrigado."
      ],
      "metadata": {
        "id": "R4aFCCfbEizW"
      }
    },
    {
      "cell_type": "code",
      "source": [
        "df[(df['Score Similitud (0,1)'] > 0.2) & (df['Score Similitud (0,1)'] < 1.0)]"
      ],
      "metadata": {
        "id": "QhzHgGuHos6v",
        "colab": {
          "base_uri": "https://localhost:8080/",
          "height": 424
        },
        "outputId": "229f37db-32eb-4ab7-888f-0a08caf62e89"
      },
      "execution_count": 43,
      "outputs": [
        {
          "output_type": "execute_result",
          "data": {
            "text/plain": [
              "                                            ITE_ITEM_TITLE  \\\n",
              "1217912                   Tênis Feminino Lynd Promoção 578   \n",
              "383357                      Tenis Feminino Casual Fletform   \n",
              "1588520  Sapatenis Masculino Couro Legitimo Deneb Gshoe...   \n",
              "2059865                              Tênis adidas Original   \n",
              "2211162  Tênis Cano Alto Infantil Plis Calçs  A410 22 A...   \n",
              "...                                                    ...   \n",
              "2139529  Tênis Kolosh Feminino Conforto Macio Lançament...   \n",
              "1334882                      Tênis Feminino De Meia Supple   \n",
              "1345753  Tênis Feminino Kolosh Casual Anabela C0531 - P...   \n",
              "181304   Sapatênis Pipper Slip On Casual Couro Masculin...   \n",
              "2624291  Tênis Casual Feminino Canvas All Shoes Star Sa...   \n",
              "\n",
              "                                           ITE_ITEM_TITLE2  \\\n",
              "1217912                   Tênis Feminino Lynd Promoção 599   \n",
              "383357                      Tênis Feminino Casual Flatform   \n",
              "1588520  Sapatenis Masculino Couro Legitimo Deneb Gshoe...   \n",
              "2059865                            Tênis  adidas Original!   \n",
              "2211162  Tênis Cano Alto Infantil Plis Calçados  A442 2...   \n",
              "...                                                    ...   \n",
              "2139529  Mountain Bike Spaceline Vega 2021 Aro 29 17  2...   \n",
              "1334882                     Tenis adidas Extaball W B35351   \n",
              "1345753                       Bicicleta Canondale Bad Boy    \n",
              "181304   Tênis Nike Court Vision Low Feminino Pronta En...   \n",
              "2624291                      Bike Aro 29 First Advance Top   \n",
              "\n",
              "         Score Similitud (0,1)  \n",
              "1217912               0.937500  \n",
              "383357                0.933333  \n",
              "1588520               0.932203  \n",
              "2059865               0.913043  \n",
              "2211162               0.905660  \n",
              "...                        ...  \n",
              "2139529               0.200000  \n",
              "1334882               0.200000  \n",
              "1345753               0.200000  \n",
              "181304                0.200000  \n",
              "2624291               0.200000  \n",
              "\n",
              "[1981889 rows x 3 columns]"
            ],
            "text/html": [
              "\n",
              "  <div id=\"df-c8c21e5b-7e03-426d-a6e1-0c6ef2c28d0d\">\n",
              "    <div class=\"colab-df-container\">\n",
              "      <div>\n",
              "<style scoped>\n",
              "    .dataframe tbody tr th:only-of-type {\n",
              "        vertical-align: middle;\n",
              "    }\n",
              "\n",
              "    .dataframe tbody tr th {\n",
              "        vertical-align: top;\n",
              "    }\n",
              "\n",
              "    .dataframe thead th {\n",
              "        text-align: right;\n",
              "    }\n",
              "</style>\n",
              "<table border=\"1\" class=\"dataframe\">\n",
              "  <thead>\n",
              "    <tr style=\"text-align: right;\">\n",
              "      <th></th>\n",
              "      <th>ITE_ITEM_TITLE</th>\n",
              "      <th>ITE_ITEM_TITLE2</th>\n",
              "      <th>Score Similitud (0,1)</th>\n",
              "    </tr>\n",
              "  </thead>\n",
              "  <tbody>\n",
              "    <tr>\n",
              "      <th>1217912</th>\n",
              "      <td>Tênis Feminino Lynd Promoção 578</td>\n",
              "      <td>Tênis Feminino Lynd Promoção 599</td>\n",
              "      <td>0.937500</td>\n",
              "    </tr>\n",
              "    <tr>\n",
              "      <th>383357</th>\n",
              "      <td>Tenis Feminino Casual Fletform</td>\n",
              "      <td>Tênis Feminino Casual Flatform</td>\n",
              "      <td>0.933333</td>\n",
              "    </tr>\n",
              "    <tr>\n",
              "      <th>1588520</th>\n",
              "      <td>Sapatenis Masculino Couro Legitimo Deneb Gshoe...</td>\n",
              "      <td>Sapatenis Masculino Couro Legitimo Deneb Gshoe...</td>\n",
              "      <td>0.932203</td>\n",
              "    </tr>\n",
              "    <tr>\n",
              "      <th>2059865</th>\n",
              "      <td>Tênis adidas Original</td>\n",
              "      <td>Tênis  adidas Original!</td>\n",
              "      <td>0.913043</td>\n",
              "    </tr>\n",
              "    <tr>\n",
              "      <th>2211162</th>\n",
              "      <td>Tênis Cano Alto Infantil Plis Calçs  A410 22 A...</td>\n",
              "      <td>Tênis Cano Alto Infantil Plis Calçados  A442 2...</td>\n",
              "      <td>0.905660</td>\n",
              "    </tr>\n",
              "    <tr>\n",
              "      <th>...</th>\n",
              "      <td>...</td>\n",
              "      <td>...</td>\n",
              "      <td>...</td>\n",
              "    </tr>\n",
              "    <tr>\n",
              "      <th>2139529</th>\n",
              "      <td>Tênis Kolosh Feminino Conforto Macio Lançament...</td>\n",
              "      <td>Mountain Bike Spaceline Vega 2021 Aro 29 17  2...</td>\n",
              "      <td>0.200000</td>\n",
              "    </tr>\n",
              "    <tr>\n",
              "      <th>1334882</th>\n",
              "      <td>Tênis Feminino De Meia Supple</td>\n",
              "      <td>Tenis adidas Extaball W B35351</td>\n",
              "      <td>0.200000</td>\n",
              "    </tr>\n",
              "    <tr>\n",
              "      <th>1345753</th>\n",
              "      <td>Tênis Feminino Kolosh Casual Anabela C0531 - P...</td>\n",
              "      <td>Bicicleta Canondale Bad Boy</td>\n",
              "      <td>0.200000</td>\n",
              "    </tr>\n",
              "    <tr>\n",
              "      <th>181304</th>\n",
              "      <td>Sapatênis Pipper Slip On Casual Couro Masculin...</td>\n",
              "      <td>Tênis Nike Court Vision Low Feminino Pronta En...</td>\n",
              "      <td>0.200000</td>\n",
              "    </tr>\n",
              "    <tr>\n",
              "      <th>2624291</th>\n",
              "      <td>Tênis Casual Feminino Canvas All Shoes Star Sa...</td>\n",
              "      <td>Bike Aro 29 First Advance Top</td>\n",
              "      <td>0.200000</td>\n",
              "    </tr>\n",
              "  </tbody>\n",
              "</table>\n",
              "<p>1981889 rows × 3 columns</p>\n",
              "</div>\n",
              "      <button class=\"colab-df-convert\" onclick=\"convertToInteractive('df-c8c21e5b-7e03-426d-a6e1-0c6ef2c28d0d')\"\n",
              "              title=\"Convert this dataframe to an interactive table.\"\n",
              "              style=\"display:none;\">\n",
              "        \n",
              "  <svg xmlns=\"http://www.w3.org/2000/svg\" height=\"24px\"viewBox=\"0 0 24 24\"\n",
              "       width=\"24px\">\n",
              "    <path d=\"M0 0h24v24H0V0z\" fill=\"none\"/>\n",
              "    <path d=\"M18.56 5.44l.94 2.06.94-2.06 2.06-.94-2.06-.94-.94-2.06-.94 2.06-2.06.94zm-11 1L8.5 8.5l.94-2.06 2.06-.94-2.06-.94L8.5 2.5l-.94 2.06-2.06.94zm10 10l.94 2.06.94-2.06 2.06-.94-2.06-.94-.94-2.06-.94 2.06-2.06.94z\"/><path d=\"M17.41 7.96l-1.37-1.37c-.4-.4-.92-.59-1.43-.59-.52 0-1.04.2-1.43.59L10.3 9.45l-7.72 7.72c-.78.78-.78 2.05 0 2.83L4 21.41c.39.39.9.59 1.41.59.51 0 1.02-.2 1.41-.59l7.78-7.78 2.81-2.81c.8-.78.8-2.07 0-2.86zM5.41 20L4 18.59l7.72-7.72 1.47 1.35L5.41 20z\"/>\n",
              "  </svg>\n",
              "      </button>\n",
              "      \n",
              "  <style>\n",
              "    .colab-df-container {\n",
              "      display:flex;\n",
              "      flex-wrap:wrap;\n",
              "      gap: 12px;\n",
              "    }\n",
              "\n",
              "    .colab-df-convert {\n",
              "      background-color: #E8F0FE;\n",
              "      border: none;\n",
              "      border-radius: 50%;\n",
              "      cursor: pointer;\n",
              "      display: none;\n",
              "      fill: #1967D2;\n",
              "      height: 32px;\n",
              "      padding: 0 0 0 0;\n",
              "      width: 32px;\n",
              "    }\n",
              "\n",
              "    .colab-df-convert:hover {\n",
              "      background-color: #E2EBFA;\n",
              "      box-shadow: 0px 1px 2px rgba(60, 64, 67, 0.3), 0px 1px 3px 1px rgba(60, 64, 67, 0.15);\n",
              "      fill: #174EA6;\n",
              "    }\n",
              "\n",
              "    [theme=dark] .colab-df-convert {\n",
              "      background-color: #3B4455;\n",
              "      fill: #D2E3FC;\n",
              "    }\n",
              "\n",
              "    [theme=dark] .colab-df-convert:hover {\n",
              "      background-color: #434B5C;\n",
              "      box-shadow: 0px 1px 3px 1px rgba(0, 0, 0, 0.15);\n",
              "      filter: drop-shadow(0px 1px 2px rgba(0, 0, 0, 0.3));\n",
              "      fill: #FFFFFF;\n",
              "    }\n",
              "  </style>\n",
              "\n",
              "      <script>\n",
              "        const buttonEl =\n",
              "          document.querySelector('#df-c8c21e5b-7e03-426d-a6e1-0c6ef2c28d0d button.colab-df-convert');\n",
              "        buttonEl.style.display =\n",
              "          google.colab.kernel.accessAllowed ? 'block' : 'none';\n",
              "\n",
              "        async function convertToInteractive(key) {\n",
              "          const element = document.querySelector('#df-c8c21e5b-7e03-426d-a6e1-0c6ef2c28d0d');\n",
              "          const dataTable =\n",
              "            await google.colab.kernel.invokeFunction('convertToInteractive',\n",
              "                                                     [key], {});\n",
              "          if (!dataTable) return;\n",
              "\n",
              "          const docLinkHtml = 'Like what you see? Visit the ' +\n",
              "            '<a target=\"_blank\" href=https://colab.research.google.com/notebooks/data_table.ipynb>data table notebook</a>'\n",
              "            + ' to learn more about interactive tables.';\n",
              "          element.innerHTML = '';\n",
              "          dataTable['output_type'] = 'display_data';\n",
              "          await google.colab.output.renderOutput(dataTable, element);\n",
              "          const docLink = document.createElement('div');\n",
              "          docLink.innerHTML = docLinkHtml;\n",
              "          element.appendChild(docLink);\n",
              "        }\n",
              "      </script>\n",
              "    </div>\n",
              "  </div>\n",
              "  "
            ]
          },
          "metadata": {},
          "execution_count": 43
        }
      ]
    },
    {
      "cell_type": "code",
      "source": [],
      "metadata": {
        "id": "XhkBOcuqIh-1"
      },
      "execution_count": null,
      "outputs": []
    }
  ]
}